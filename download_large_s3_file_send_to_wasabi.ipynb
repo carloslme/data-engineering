{
  "nbformat": 4,
  "nbformat_minor": 0,
  "metadata": {
    "colab": {
      "name": "download_large_s3_file_send_to_wasabi.ipynb",
      "provenance": [],
      "authorship_tag": "ABX9TyMBpRBMB00BdjdP9/Vp/0IL",
      "include_colab_link": true
    },
    "kernelspec": {
      "name": "python3",
      "display_name": "Python 3"
    },
    "language_info": {
      "name": "python"
    }
  },
  "cells": [
    {
      "cell_type": "markdown",
      "metadata": {
        "id": "view-in-github",
        "colab_type": "text"
      },
      "source": [
        "<a href=\"https://colab.research.google.com/github/carloslme/data-engineering/blob/main/download_large_s3_file_send_to_wasabi.ipynb\" target=\"_parent\"><img src=\"https://colab.research.google.com/assets/colab-badge.svg\" alt=\"Open In Colab\"/></a>"
      ]
    },
    {
      "cell_type": "markdown",
      "metadata": {
        "id": "IfOlWKwNlyGe"
      },
      "source": [
        "# Introduction\n",
        "This notebook has the code to perform a bucket migration from AWS S3 to an endpoint, for this case, Wasabisys (also called Wasabi).\n",
        "\n",
        "# Contents\n",
        "* Prerequisites\n",
        "* Step 1: Import libraries\n",
        "* Step 2: Setting credentials\n",
        "* Step 3: Declare functions\n",
        "* Step 4: Download and save lcoally\n",
        "* Step 5: Load and send to endpoint (Wasabi)\n"
      ]
    },
    {
      "cell_type": "markdown",
      "metadata": {
        "id": "TYjtioHbmd_N"
      },
      "source": [
        "# Prerequisites\n",
        "Before you begin, be sure that you've installed boto"
      ]
    },
    {
      "cell_type": "code",
      "metadata": {
        "id": "jQ9WPTVVkguV",
        "colab": {
          "base_uri": "https://localhost:8080/"
        },
        "outputId": "a68bdbda-5cf7-438f-d428-02189a13208a"
      },
      "source": [
        "!pip install boto3"
      ],
      "execution_count": 1,
      "outputs": [
        {
          "output_type": "stream",
          "name": "stdout",
          "text": [
            "Collecting boto3\n",
            "  Downloading boto3-1.18.34-py3-none-any.whl (131 kB)\n",
            "\u001b[K     |████████████████████████████████| 131 kB 11.9 MB/s \n",
            "\u001b[?25hCollecting s3transfer<0.6.0,>=0.5.0\n",
            "  Downloading s3transfer-0.5.0-py3-none-any.whl (79 kB)\n",
            "\u001b[K     |████████████████████████████████| 79 kB 4.8 MB/s \n",
            "\u001b[?25hCollecting jmespath<1.0.0,>=0.7.1\n",
            "  Downloading jmespath-0.10.0-py2.py3-none-any.whl (24 kB)\n",
            "Collecting botocore<1.22.0,>=1.21.34\n",
            "  Downloading botocore-1.21.34-py3-none-any.whl (7.9 MB)\n",
            "\u001b[K     |████████████████████████████████| 7.9 MB 73.6 MB/s \n",
            "\u001b[?25hCollecting urllib3<1.27,>=1.25.4\n",
            "  Downloading urllib3-1.26.6-py2.py3-none-any.whl (138 kB)\n",
            "\u001b[K     |████████████████████████████████| 138 kB 69.6 MB/s \n",
            "\u001b[?25hRequirement already satisfied: python-dateutil<3.0.0,>=2.1 in /usr/local/lib/python3.7/dist-packages (from botocore<1.22.0,>=1.21.34->boto3) (2.8.2)\n",
            "Requirement already satisfied: six>=1.5 in /usr/local/lib/python3.7/dist-packages (from python-dateutil<3.0.0,>=2.1->botocore<1.22.0,>=1.21.34->boto3) (1.15.0)\n",
            "Installing collected packages: urllib3, jmespath, botocore, s3transfer, boto3\n",
            "  Attempting uninstall: urllib3\n",
            "    Found existing installation: urllib3 1.24.3\n",
            "    Uninstalling urllib3-1.24.3:\n",
            "      Successfully uninstalled urllib3-1.24.3\n",
            "\u001b[31mERROR: pip's dependency resolver does not currently take into account all the packages that are installed. This behaviour is the source of the following dependency conflicts.\n",
            "requests 2.23.0 requires urllib3!=1.25.0,!=1.25.1,<1.26,>=1.21.1, but you have urllib3 1.26.6 which is incompatible.\n",
            "datascience 0.10.6 requires folium==0.2.1, but you have folium 0.8.3 which is incompatible.\u001b[0m\n",
            "Successfully installed boto3-1.18.34 botocore-1.21.34 jmespath-0.10.0 s3transfer-0.5.0 urllib3-1.26.6\n"
          ]
        }
      ]
    },
    {
      "cell_type": "markdown",
      "metadata": {
        "id": "LlZ3Hm7imqcl"
      },
      "source": [
        "# Step 1: Import libraries"
      ]
    },
    {
      "cell_type": "code",
      "metadata": {
        "id": "kEhlCB-8mf2g"
      },
      "source": [
        "import boto3\n",
        "import io\n",
        "import pandas as pd"
      ],
      "execution_count": 2,
      "outputs": []
    },
    {
      "cell_type": "code",
      "metadata": {
        "id": "K9Fif0bamwt3"
      },
      "source": [
        ""
      ],
      "execution_count": null,
      "outputs": []
    }
  ]
}