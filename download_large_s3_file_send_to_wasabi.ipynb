{
  "nbformat": 4,
  "nbformat_minor": 0,
  "metadata": {
    "colab": {
      "name": "download_large_s3_file_send_to_wasabi.ipynb",
      "provenance": [],
      "authorship_tag": "ABX9TyPt3gUgpOiVqLAE8G7r5BM3",
      "include_colab_link": true
    },
    "kernelspec": {
      "name": "python3",
      "display_name": "Python 3"
    },
    "language_info": {
      "name": "python"
    }
  },
  "cells": [
    {
      "cell_type": "markdown",
      "metadata": {
        "id": "view-in-github",
        "colab_type": "text"
      },
      "source": [
        "<a href=\"https://colab.research.google.com/github/carloslme/data-engineering/blob/main/download_large_s3_file_send_to_wasabi.ipynb\" target=\"_parent\"><img src=\"https://colab.research.google.com/assets/colab-badge.svg\" alt=\"Open In Colab\"/></a>"
      ]
    },
    {
      "cell_type": "markdown",
      "metadata": {
        "id": "IfOlWKwNlyGe"
      },
      "source": [
        "# Introduction\n",
        "This notebook has the code to perform a bucket migration from AWS S3 to an endpoint, for this case, Wasabisys (also called Wasabi).\n",
        "\n",
        "# Contents\n",
        "* Prerequisites\n",
        "* Step 1: Import libraries\n",
        "* Step 2: Setting credentials\n",
        "* Step 3: Declare functions\n",
        "* Step 4: Download and save lcoally\n",
        "* Step 5: Load and send to endpoint (Wasabi)\n"
      ]
    },
    {
      "cell_type": "code",
      "metadata": {
        "id": "jQ9WPTVVkguV"
      },
      "source": [
        ""
      ],
      "execution_count": null,
      "outputs": []
    }
  ]
}