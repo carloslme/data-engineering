{
  "nbformat": 4,
  "nbformat_minor": 0,
  "metadata": {
    "colab": {
      "name": "validate_data_buckets.ipynb",
      "provenance": [],
      "authorship_tag": "ABX9TyP5TftlbfMGIoqN85CvLun2",
      "include_colab_link": true
    },
    "kernelspec": {
      "name": "python3",
      "display_name": "Python 3"
    },
    "language_info": {
      "name": "python"
    }
  },
  "cells": [
    {
      "cell_type": "markdown",
      "metadata": {
        "id": "view-in-github",
        "colab_type": "text"
      },
      "source": [
        "<a href=\"https://colab.research.google.com/github/carloslme/data-engineering/blob/main/validate_data_buckets.ipynb\" target=\"_parent\"><img src=\"https://colab.research.google.com/assets/colab-badge.svg\" alt=\"Open In Colab\"/></a>"
      ]
    },
    {
      "cell_type": "markdown",
      "metadata": {
        "id": "75YqVS7Q_xk3"
      },
      "source": [
        "\n",
        "#Introduction\n",
        "This notebook has the code to perform a bucket validation after a migration from AWS S3 to an endpoint, for this case, Wasabisys (also called Wasabi).\n",
        "\n",
        "#Contents\n",
        "* Prerequisites\n",
        "* Step 1: Import libraries\n",
        "* Step 2: Setting credentials\n",
        "* Step 3: Declare functions\n",
        "* Step 4: Get the S3 objects in the buckets\n",
        "* Step 5: Start migration\n"
      ]
    },
    {
      "cell_type": "code",
      "metadata": {
        "id": "3B4XnreW_uqh"
      },
      "source": [
        "\n"
      ],
      "execution_count": null,
      "outputs": []
    }
  ]
}