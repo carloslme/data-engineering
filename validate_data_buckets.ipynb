{
  "nbformat": 4,
  "nbformat_minor": 0,
  "metadata": {
    "colab": {
      "name": "validate_data_buckets.ipynb",
      "provenance": [],
      "authorship_tag": "ABX9TyNEIaetvMAknU3aLxZXyvk9",
      "include_colab_link": true
    },
    "kernelspec": {
      "name": "python3",
      "display_name": "Python 3"
    },
    "language_info": {
      "name": "python"
    }
  },
  "cells": [
    {
      "cell_type": "markdown",
      "metadata": {
        "id": "view-in-github",
        "colab_type": "text"
      },
      "source": [
        "<a href=\"https://colab.research.google.com/github/carloslme/data-engineering/blob/main/validate_data_buckets.ipynb\" target=\"_parent\"><img src=\"https://colab.research.google.com/assets/colab-badge.svg\" alt=\"Open In Colab\"/></a>"
      ]
    },
    {
      "cell_type": "markdown",
      "metadata": {
        "id": "75YqVS7Q_xk3"
      },
      "source": [
        "\n",
        "#Introduction\n",
        "This notebook has the code to perform a bucket validation after a migration from AWS S3 to an endpoint, for this case, Wasabisys (also called Wasabi).\n",
        "\n",
        "#Contents\n",
        "* Prerequisites\n",
        "* Step 1: Import libraries\n",
        "* Step 2: Setting credentials\n",
        "* Step 3: Declare functions\n",
        "* Step 4: Validate S3 objects in the Wasabi bucket\n"
      ]
    },
    {
      "cell_type": "markdown",
      "metadata": {
        "id": "BG9SUj-jBDvf"
      },
      "source": [
        "# Prerequisites"
      ]
    },
    {
      "cell_type": "code",
      "metadata": {
        "id": "3B4XnreW_uqh",
        "colab": {
          "base_uri": "https://localhost:8080/"
        },
        "outputId": "eb154cf6-2908-47c8-88ca-214fc01294bf"
      },
      "source": [
        "!pip install boto3"
      ],
      "execution_count": 1,
      "outputs": [
        {
          "output_type": "stream",
          "text": [
            "Collecting boto3\n",
            "  Downloading boto3-1.18.31-py3-none-any.whl (131 kB)\n",
            "\u001b[?25l\r\u001b[K     |██▌                             | 10 kB 19.4 MB/s eta 0:00:01\r\u001b[K     |█████                           | 20 kB 22.2 MB/s eta 0:00:01\r\u001b[K     |███████▌                        | 30 kB 24.4 MB/s eta 0:00:01\r\u001b[K     |██████████                      | 40 kB 26.0 MB/s eta 0:00:01\r\u001b[K     |████████████▌                   | 51 kB 27.3 MB/s eta 0:00:01\r\u001b[K     |███████████████                 | 61 kB 28.6 MB/s eta 0:00:01\r\u001b[K     |█████████████████▍              | 71 kB 30.1 MB/s eta 0:00:01\r\u001b[K     |████████████████████            | 81 kB 29.7 MB/s eta 0:00:01\r\u001b[K     |██████████████████████▍         | 92 kB 31.3 MB/s eta 0:00:01\r\u001b[K     |█████████████████████████       | 102 kB 32.9 MB/s eta 0:00:01\r\u001b[K     |███████████████████████████▍    | 112 kB 32.9 MB/s eta 0:00:01\r\u001b[K     |█████████████████████████████▉  | 122 kB 32.9 MB/s eta 0:00:01\r\u001b[K     |████████████████████████████████| 131 kB 32.9 MB/s \n",
            "\u001b[?25hCollecting s3transfer<0.6.0,>=0.5.0\n",
            "  Downloading s3transfer-0.5.0-py3-none-any.whl (79 kB)\n",
            "\u001b[K     |████████████████████████████████| 79 kB 6.6 MB/s \n",
            "\u001b[?25hCollecting botocore<1.22.0,>=1.21.31\n",
            "  Downloading botocore-1.21.31-py3-none-any.whl (7.8 MB)\n",
            "\u001b[K     |████████████████████████████████| 7.8 MB 39.3 MB/s \n",
            "\u001b[?25hCollecting jmespath<1.0.0,>=0.7.1\n",
            "  Downloading jmespath-0.10.0-py2.py3-none-any.whl (24 kB)\n",
            "Collecting urllib3<1.27,>=1.25.4\n",
            "  Downloading urllib3-1.26.6-py2.py3-none-any.whl (138 kB)\n",
            "\u001b[K     |████████████████████████████████| 138 kB 44.1 MB/s \n",
            "\u001b[?25hRequirement already satisfied: python-dateutil<3.0.0,>=2.1 in /usr/local/lib/python3.7/dist-packages (from botocore<1.22.0,>=1.21.31->boto3) (2.8.2)\n",
            "Requirement already satisfied: six>=1.5 in /usr/local/lib/python3.7/dist-packages (from python-dateutil<3.0.0,>=2.1->botocore<1.22.0,>=1.21.31->boto3) (1.15.0)\n",
            "Installing collected packages: urllib3, jmespath, botocore, s3transfer, boto3\n",
            "  Attempting uninstall: urllib3\n",
            "    Found existing installation: urllib3 1.24.3\n",
            "    Uninstalling urllib3-1.24.3:\n",
            "      Successfully uninstalled urllib3-1.24.3\n",
            "\u001b[31mERROR: pip's dependency resolver does not currently take into account all the packages that are installed. This behaviour is the source of the following dependency conflicts.\n",
            "requests 2.23.0 requires urllib3!=1.25.0,!=1.25.1,<1.26,>=1.21.1, but you have urllib3 1.26.6 which is incompatible.\n",
            "datascience 0.10.6 requires folium==0.2.1, but you have folium 0.8.3 which is incompatible.\u001b[0m\n",
            "Successfully installed boto3-1.18.31 botocore-1.21.31 jmespath-0.10.0 s3transfer-0.5.0 urllib3-1.26.6\n"
          ],
          "name": "stdout"
        }
      ]
    },
    {
      "cell_type": "markdown",
      "metadata": {
        "id": "NaC1YxMfDGjm"
      },
      "source": [
        "# Step 1: Import libraries\n",
        "Just importing the library installed and some preinstalled ones in notebook session"
      ]
    },
    {
      "cell_type": "code",
      "metadata": {
        "id": "U80xQ4YPBFO5"
      },
      "source": [
        "import boto3\n",
        "import multiprocessing\n",
        "from multiprocessing import Pool\n",
        "import time\n",
        "import io\n",
        "from tqdm import tqdm"
      ],
      "execution_count": 2,
      "outputs": []
    },
    {
      "cell_type": "markdown",
      "metadata": {
        "id": "kmxaiJiFD7HX"
      },
      "source": [
        "# Step 2: Setting credentials¶\n"
      ]
    },
    {
      "cell_type": "code",
      "metadata": {
        "id": "G7kw36n7D1uu"
      },
      "source": [
        "import boto3\n",
        "\n",
        "# Setting up the credentials for S3\n",
        "ACCESS_ID_RAW = ''\n",
        "ACCESS_KEY_RAW = ''\n",
        "AWS_S3_CREDS = {\n",
        "         'aws_access_key_id':ACCESS_ID_RAW,\n",
        "         'aws_secret_access_key':ACCESS_KEY_RAW\n",
        "         }\n",
        "\n",
        "# Setup up the credentiald for Wasabi\n",
        "ACCESS_ID_W = ''\n",
        "ACCESS_KEY_W = ''\n",
        "ENPOINT_URL = 'https://s3.YOUR-REGION-HERE.wasabisys.com'\n",
        "AWS_WASABI_CREDS = {\n",
        "    'endpoint_url':ENPOINT_URL,\n",
        "    'aws_access_key_id':ACCESS_ID_W,\n",
        "    'aws_secret_access_key':ACCESS_KEY_W\n",
        "}"
      ],
      "execution_count": null,
      "outputs": []
    },
    {
      "cell_type": "markdown",
      "metadata": {
        "id": "Fub3QZLJEG0J"
      },
      "source": [
        "# Step 3: Declare functions"
      ]
    },
    {
      "cell_type": "code",
      "metadata": {
        "id": "vTEjX83CEJIb"
      },
      "source": [
        "def get_all_s3_objects(s3, **base_kwargs):\n",
        "    continuation_token = None\n",
        "    while True:\n",
        "        list_kwargs = dict(MaxKeys=1000, **base_kwargs)\n",
        "        if continuation_token:\n",
        "            list_kwargs['ContinuationToken'] = continuation_token\n",
        "        response = s3.list_objects_v2(**list_kwargs)\n",
        "        yield from response.get('Contents', [])\n",
        "        if not response.get('IsTruncated'):  # At the end of the list?\n",
        "            break\n",
        "        continuation_token = response.get('NextContinuationToken')\n",
        "\n",
        "def getHumanReadable(size,precision=2):\n",
        "    suffixes=['B','KB','MB','GB','TB']\n",
        "    suffixIndex = 0\n",
        "    while size > 1024 and suffixIndex < 4:\n",
        "        suffixIndex += 1 #increment the index of the suffix\n",
        "        size = size/1024.0 #apply the division\n",
        "    return \"%.*f%s\"%(precision,size,suffixes[suffixIndex])\n",
        "\n",
        "def get_info_obj(bucket_s3, prefix_s3, bucket_wasabi, prefix_wasabi):\n",
        "    \n",
        "    count_s3 = 0\n",
        "    sum_s3 = 0\n",
        "    count_wasabi = 0\n",
        "    sum_wasabi = 0\n",
        "\n",
        "    for file in get_all_s3_objects(s3=boto3.client('s3', **AWS_S3_CREDS), Bucket=bucket_s3, Prefix=prefix_s3):\n",
        "      count_s3 = count_s3\n",
        "      sum_s3 = sum_s3 + (file['Size'])\n",
        "      count_s3 +=1\n",
        "    \n",
        "    for file in get_all_s3_objects(s3=boto3.client('s3', **AWS_WASABI_CREDS), Bucket=bucket_wasabi, Prefix=prefix_wasabi):\n",
        "      count_wasabi = count_wasabi\n",
        "      sum_wasabi = sum_wasabi + (file['Size'])\n",
        "      count_wasabi +=1\n",
        "    \n",
        "    return (getHumanReadable(sum_s3),count_s3), (getHumanReadable(sum_wasabi),count_wasabi)"
      ],
      "execution_count": null,
      "outputs": []
    },
    {
      "cell_type": "markdown",
      "metadata": {
        "id": "hmejvnwqEpaB"
      },
      "source": [
        "# Step 4: Validate S3 objects in the Wasabi bucket\n"
      ]
    },
    {
      "cell_type": "code",
      "metadata": {
        "id": "Jc9sDn05E1Wn"
      },
      "source": [
        "list_prefixes = [\n",
        "'prefix-1',\n",
        "'prefix-2',\n",
        "'prefix-3'\n",
        "]\n",
        "\n",
        "successful_results = []\n",
        "error_results = []\n",
        "\n",
        "for prefix in list_prefixes:\n",
        "  res_s3, res_wasabi = get_info_obj(bucket_s3='S3-BUCKET', \n",
        "             prefix_s3=prefix,\n",
        "             bucket_wasabi='WASABI-BUCKET', \n",
        "             prefix_wasabi=prefix)\n",
        "  \n",
        "  if res_s3 == res_wasabi:\n",
        "    print('All good with {} - {}'.format(prefix, res_s3))\n",
        "    successful_results.append([prefix, res_s3, res_wasabi])\n",
        "  else:\n",
        "    print('ERROR: Take a look at {}'.format(prefix))\n",
        "    error_results.append([prefix, res_s3, res_wasabi])"
      ],
      "execution_count": null,
      "outputs": []
    }
  ]
}