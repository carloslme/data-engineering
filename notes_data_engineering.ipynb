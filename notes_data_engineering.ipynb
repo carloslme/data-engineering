{
  "nbformat": 4,
  "nbformat_minor": 0,
  "metadata": {
    "colab": {
      "name": "notes-data-engineering.ipynb",
      "provenance": [],
      "authorship_tag": "ABX9TyO3uRaOyhsWLF0VqJ9CTpjV",
      "include_colab_link": true
    },
    "kernelspec": {
      "name": "python3",
      "display_name": "Python 3"
    },
    "language_info": {
      "name": "python"
    }
  },
  "cells": [
    {
      "cell_type": "markdown",
      "metadata": {
        "id": "view-in-github",
        "colab_type": "text"
      },
      "source": [
        "<a href=\"https://colab.research.google.com/github/carloslme/data-engineering/blob/main/notes_data_engineering.ipynb\" target=\"_parent\"><img src=\"https://colab.research.google.com/assets/colab-badge.svg\" alt=\"Open In Colab\"/></a>"
      ]
    },
    {
      "cell_type": "markdown",
      "metadata": {
        "id": "xdFUU8TPMiIu"
      },
      "source": [
        "#Building a Data Lake on AWS\n",
        "## What is a Data Lake?\n",
        "* A centralized repository for both structured and unstructured data\n",
        "* Store data as-is in open-source file formats to enable direct analytics\n",
        "* Analyze massive volumes of data in a central repository\n",
        "\n",
        "## Big Data Characteristics\n",
        "* Volume\n",
        "* Velocity\n",
        "* Variety (batch, streaming)\n",
        "* Veracity\n",
        "* Value\n",
        "* Variability\n",
        "* Visualization"
      ]
    },
    {
      "cell_type": "code",
      "metadata": {
        "id": "VonsJQK5LaBz"
      },
      "source": [
        ""
      ],
      "execution_count": null,
      "outputs": []
    }
  ]
}