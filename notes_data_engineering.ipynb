{
  "nbformat": 4,
  "nbformat_minor": 0,
  "metadata": {
    "colab": {
      "name": "notes-data-engineering.ipynb",
      "provenance": [],
      "authorship_tag": "ABX9TyPgR98Ve8PucIlevdkh6hAR",
      "include_colab_link": true
    },
    "kernelspec": {
      "name": "python3",
      "display_name": "Python 3"
    },
    "language_info": {
      "name": "python"
    }
  },
  "cells": [
    {
      "cell_type": "markdown",
      "metadata": {
        "id": "view-in-github",
        "colab_type": "text"
      },
      "source": [
        "<a href=\"https://colab.research.google.com/github/carloslme/data-engineering/blob/main/notes_data_engineering.ipynb\" target=\"_parent\"><img src=\"https://colab.research.google.com/assets/colab-badge.svg\" alt=\"Open In Colab\"/></a>"
      ]
    },
    {
      "cell_type": "markdown",
      "metadata": {
        "id": "xdFUU8TPMiIu"
      },
      "source": [
        "#Building a Data Lake on AWS\n",
        "## What is a Data Lake?\n",
        "* A centralized repository for both structured and unstructured data\n",
        "* Store data as-is in open-source file formats to enable direct analytics\n",
        "* Analyze massive volumes of data in a central repository\n",
        "\n",
        "## Big Data Characteristics\n",
        "* Volume\n",
        "* Velocity\n",
        "* Variety (batch, streaming)\n",
        "* Veracity\n",
        "* Value\n",
        "* Variability\n",
        "* Visualization\n",
        "\n",
        "## Why a Data Lake?\n",
        "* Decouple storage from compute, allowing you to scale\n",
        "* Enable advanced analytics across all your data sources\n",
        "* Reduce complexity in ETL and operational overhead\n",
        "* Future extensibility as new database and analytics technologies are invented\n",
        "\n",
        "## The Data Lake Architecture\n",
        "* Take data from a variety of sources\n",
        "* Move them through some sort of processing layer\n",
        "* Make it available for consumption by different people within the enterprise\n",
        "\n",
        "## The concept of a Data Lake\n",
        "* All data in one place, a single source of truth\n",
        "* Handles structures/semi-structured/unstructured/raw data\n",
        "* Supports fast ingestion and consumption\n",
        "* Designed for low-cost storage\n",
        "* Decouples storage and compute\n",
        "* Supports protection and security rules\n",
        "\n",
        "## Typical steps for building a data lake\n",
        "1. Setup up storage (buckets)\n",
        "2. Move data \n",
        "3. Clean, prep, and catalog data - delete duplicates, check sensitive info\n",
        "4. Configure and enforce security and compliance policies - setup up specific accesses \n",
        "5. Make data available for analytics\n",
        "\n"
      ]
    },
    {
      "cell_type": "code",
      "metadata": {
        "id": "VonsJQK5LaBz"
      },
      "source": [
        ""
      ],
      "execution_count": null,
      "outputs": []
    }
  ]
}