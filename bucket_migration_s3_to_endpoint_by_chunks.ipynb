{
  "nbformat": 4,
  "nbformat_minor": 0,
  "metadata": {
    "colab": {
      "name": "bucket_migration_s3_to_endpoint_by_chunks.ipynb",
      "provenance": [],
      "authorship_tag": "ABX9TyPJudy+0QjEWWWmDoqbi8iv",
      "include_colab_link": true
    },
    "kernelspec": {
      "name": "python3",
      "display_name": "Python 3"
    },
    "language_info": {
      "name": "python"
    }
  },
  "cells": [
    {
      "cell_type": "markdown",
      "metadata": {
        "id": "view-in-github",
        "colab_type": "text"
      },
      "source": [
        "<a href=\"https://colab.research.google.com/github/carloslme/data-engineering/blob/main/bucket_migration_s3_to_endpoint_by_chunks.ipynb\" target=\"_parent\"><img src=\"https://colab.research.google.com/assets/colab-badge.svg\" alt=\"Open In Colab\"/></a>"
      ]
    },
    {
      "cell_type": "markdown",
      "metadata": {
        "id": "rOCbwM5GcGIU"
      },
      "source": [
        "\n",
        "# Introduction\n",
        "This notebook has the code to perform a bucket migration from AWS S3 to an endpoint, for this case, Wasabisys (also called Wasabi).\n",
        "\n",
        "# Contents\n",
        "* Prerequisites\n",
        "* Step 1: Import libraries\n",
        "* Step 2: Setting credentials\n",
        "* Step 3: Mount Google Drive \n",
        "* Step 4: Declare functions\n",
        "* Step 5: Get the S3 objects in the buckets\n",
        "* Step 6: Start migration by chunks"
      ]
    },
    {
      "cell_type": "markdown",
      "metadata": {
        "id": "RlOCzMj2iiTT"
      },
      "source": [
        "# Prerequisites\n",
        "Before you begin, be sure that you've installed boto"
      ]
    },
    {
      "cell_type": "code",
      "metadata": {
        "id": "E-Gi3d_EcLGV",
        "colab": {
          "base_uri": "https://localhost:8080/"
        },
        "outputId": "94c5402c-1817-4d0c-ce7a-990601500db2"
      },
      "source": [
        "!pip install boto3"
      ],
      "execution_count": 1,
      "outputs": [
        {
          "output_type": "stream",
          "name": "stdout",
          "text": [
            "Collecting boto3\n",
            "  Downloading boto3-1.18.32-py3-none-any.whl (131 kB)\n",
            "\u001b[K     |████████████████████████████████| 131 kB 5.1 MB/s \n",
            "\u001b[?25hCollecting s3transfer<0.6.0,>=0.5.0\n",
            "  Downloading s3transfer-0.5.0-py3-none-any.whl (79 kB)\n",
            "\u001b[K     |████████████████████████████████| 79 kB 3.7 MB/s \n",
            "\u001b[?25hCollecting botocore<1.22.0,>=1.21.32\n",
            "  Downloading botocore-1.21.32-py3-none-any.whl (7.8 MB)\n",
            "\u001b[K     |████████████████████████████████| 7.8 MB 30.6 MB/s \n",
            "\u001b[?25hCollecting jmespath<1.0.0,>=0.7.1\n",
            "  Downloading jmespath-0.10.0-py2.py3-none-any.whl (24 kB)\n",
            "Requirement already satisfied: python-dateutil<3.0.0,>=2.1 in /usr/local/lib/python3.7/dist-packages (from botocore<1.22.0,>=1.21.32->boto3) (2.8.2)\n",
            "Collecting urllib3<1.27,>=1.25.4\n",
            "  Downloading urllib3-1.26.6-py2.py3-none-any.whl (138 kB)\n",
            "\u001b[K     |████████████████████████████████| 138 kB 61.7 MB/s \n",
            "\u001b[?25hRequirement already satisfied: six>=1.5 in /usr/local/lib/python3.7/dist-packages (from python-dateutil<3.0.0,>=2.1->botocore<1.22.0,>=1.21.32->boto3) (1.15.0)\n",
            "Installing collected packages: urllib3, jmespath, botocore, s3transfer, boto3\n",
            "  Attempting uninstall: urllib3\n",
            "    Found existing installation: urllib3 1.24.3\n",
            "    Uninstalling urllib3-1.24.3:\n",
            "      Successfully uninstalled urllib3-1.24.3\n",
            "\u001b[31mERROR: pip's dependency resolver does not currently take into account all the packages that are installed. This behaviour is the source of the following dependency conflicts.\n",
            "requests 2.23.0 requires urllib3!=1.25.0,!=1.25.1,<1.26,>=1.21.1, but you have urllib3 1.26.6 which is incompatible.\n",
            "datascience 0.10.6 requires folium==0.2.1, but you have folium 0.8.3 which is incompatible.\u001b[0m\n",
            "Successfully installed boto3-1.18.32 botocore-1.21.32 jmespath-0.10.0 s3transfer-0.5.0 urllib3-1.26.6\n"
          ]
        }
      ]
    },
    {
      "cell_type": "markdown",
      "metadata": {
        "id": "2SffQe60iwHH"
      },
      "source": [
        "# Step 1: Import libraries\n"
      ]
    },
    {
      "cell_type": "code",
      "metadata": {
        "id": "Mo1bSKuFij_5"
      },
      "source": [
        "import boto3\n",
        "import multiprocessing\n",
        "from multiprocessing import Pool\n",
        "import time\n",
        "import io\n",
        "from tqdm import tqdm\n",
        "import pandas as pd"
      ],
      "execution_count": 2,
      "outputs": []
    },
    {
      "cell_type": "markdown",
      "metadata": {
        "id": "Bbs_oEuWi_jk"
      },
      "source": [
        "# Step 2: Setting credentials"
      ]
    },
    {
      "cell_type": "code",
      "metadata": {
        "id": "t3F-cRiSi3JE"
      },
      "source": [
        "import boto3\n",
        "\n",
        "# Setting up the credentials for S3\n",
        "ACCESS_ID_RAW = ''\n",
        "ACCESS_KEY_RAW = ''\n",
        "AWS_S3_CREDS = {\n",
        "         'aws_access_key_id':ACCESS_ID_RAW,\n",
        "         'aws_secret_access_key':ACCESS_KEY_RAW\n",
        "         }\n",
        "\n",
        "# Setup up the credentiald for Wasabi\n",
        "ACCESS_ID_W = ''\n",
        "ACCESS_KEY_W = ''\n",
        "ENPOINT_URL = 'https://s3.YOUR-REGION-HERE.wasabisys.com'\n",
        "AWS_WASABI_CREDS = {\n",
        "    'endpoint_url':ENPOINT_URL,\n",
        "    'aws_access_key_id':ACCESS_ID_W,\n",
        "    'aws_secret_access_key':ACCESS_KEY_W\n",
        "}"
      ],
      "execution_count": null,
      "outputs": []
    },
    {
      "cell_type": "markdown",
      "metadata": {
        "id": "u2qRO41ljTOM"
      },
      "source": [
        "# Step 3: Mount Google Drive "
      ]
    },
    {
      "cell_type": "code",
      "metadata": {
        "colab": {
          "base_uri": "https://localhost:8080/"
        },
        "id": "Zmimibn6i3yV",
        "outputId": "d972fee6-229c-4f97-8876-e8b69a4d2345"
      },
      "source": [
        "from google.colab import drive\n",
        "drive.mount('/content/drive')"
      ],
      "execution_count": 3,
      "outputs": [
        {
          "output_type": "stream",
          "name": "stdout",
          "text": [
            "Mounted at /content/drive\n"
          ]
        }
      ]
    },
    {
      "cell_type": "code",
      "metadata": {
        "id": "gBPIb1gzkGuz"
      },
      "source": [
        ""
      ],
      "execution_count": null,
      "outputs": []
    }
  ]
}