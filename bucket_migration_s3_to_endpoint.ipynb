{
  "nbformat": 4,
  "nbformat_minor": 0,
  "metadata": {
    "colab": {
      "name": "bucket_migration_s3_to_endpoint.ipynb",
      "provenance": [],
      "authorship_tag": "ABX9TyMSPqOliVAvInSKPwBnRW+2",
      "include_colab_link": true
    },
    "kernelspec": {
      "name": "python3",
      "display_name": "Python 3"
    },
    "language_info": {
      "name": "python"
    }
  },
  "cells": [
    {
      "cell_type": "markdown",
      "metadata": {
        "id": "view-in-github",
        "colab_type": "text"
      },
      "source": [
        "<a href=\"https://colab.research.google.com/github/carloslme/data-engineering/blob/main/bucket_migration_s3_to_endpoint.ipynb\" target=\"_parent\"><img src=\"https://colab.research.google.com/assets/colab-badge.svg\" alt=\"Open In Colab\"/></a>"
      ]
    },
    {
      "cell_type": "markdown",
      "metadata": {
        "id": "_XhBgST5vZAv"
      },
      "source": [
        "# Introduction\n",
        "This notebook has the code to perform a bucket migration from AWS S3 to an enpoint, for this case, Wasabisys (also called Wasabi).\n",
        "\n"
      ]
    },
    {
      "cell_type": "code",
      "metadata": {
        "id": "OOLUGny2vQNo"
      },
      "source": [
        ""
      ],
      "execution_count": null,
      "outputs": []
    }
  ]
}