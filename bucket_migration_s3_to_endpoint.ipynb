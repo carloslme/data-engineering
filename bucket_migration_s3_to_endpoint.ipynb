{
  "nbformat": 4,
  "nbformat_minor": 0,
  "metadata": {
    "colab": {
      "name": "bucket_migration_s3_to_endpoint.ipynb",
      "provenance": [],
      "authorship_tag": "ABX9TyPjH2DSKKcbOZS7dJAxbbEl",
      "include_colab_link": true
    },
    "kernelspec": {
      "name": "python3",
      "display_name": "Python 3"
    },
    "language_info": {
      "name": "python"
    }
  },
  "cells": [
    {
      "cell_type": "markdown",
      "metadata": {
        "id": "view-in-github",
        "colab_type": "text"
      },
      "source": [
        "<a href=\"https://colab.research.google.com/github/carloslme/data-engineering/blob/main/bucket_migration_s3_to_endpoint.ipynb\" target=\"_parent\"><img src=\"https://colab.research.google.com/assets/colab-badge.svg\" alt=\"Open In Colab\"/></a>"
      ]
    },
    {
      "cell_type": "markdown",
      "metadata": {
        "id": "_XhBgST5vZAv"
      },
      "source": [
        "# Introduction\n",
        "This notebook has the code to perform a bucket migration from AWS S3 to an endpoint, for this case, Wasabisys (also called Wasabi).\n",
        "\n",
        "# Contents\n",
        "* Prerequisites\n",
        "* Step 1: Import libraries\n",
        "* Step 2: Setting credentials\n",
        "* Step 3: Declare functions \n",
        "* Step 4: Get the S3 objects in the buckets\n",
        "* Step 5: Start migration"
      ]
    },
    {
      "cell_type": "markdown",
      "metadata": {
        "id": "FeMZRwmZyGPX"
      },
      "source": [
        "# Prerequisites\n",
        "Before you begin, be sure that you've installed `boto3`"
      ]
    },
    {
      "cell_type": "code",
      "metadata": {
        "id": "OOLUGny2vQNo",
        "colab": {
          "base_uri": "https://localhost:8080/"
        },
        "outputId": "480b3c82-b76b-4773-c5ba-f89895028f9a"
      },
      "source": [
        "!pip install boto3"
      ],
      "execution_count": 1,
      "outputs": [
        {
          "output_type": "stream",
          "text": [
            "Collecting boto3\n",
            "  Downloading boto3-1.18.29-py3-none-any.whl (131 kB)\n",
            "\u001b[K     |████████████████████████████████| 131 kB 5.0 MB/s \n",
            "\u001b[?25hCollecting jmespath<1.0.0,>=0.7.1\n",
            "  Downloading jmespath-0.10.0-py2.py3-none-any.whl (24 kB)\n",
            "Collecting s3transfer<0.6.0,>=0.5.0\n",
            "  Downloading s3transfer-0.5.0-py3-none-any.whl (79 kB)\n",
            "\u001b[K     |████████████████████████████████| 79 kB 6.2 MB/s \n",
            "\u001b[?25hCollecting botocore<1.22.0,>=1.21.29\n",
            "  Downloading botocore-1.21.29-py3-none-any.whl (7.8 MB)\n",
            "\u001b[K     |████████████████████████████████| 7.8 MB 38.1 MB/s \n",
            "\u001b[?25hCollecting urllib3<1.27,>=1.25.4\n",
            "  Downloading urllib3-1.26.6-py2.py3-none-any.whl (138 kB)\n",
            "\u001b[K     |████████████████████████████████| 138 kB 45.5 MB/s \n",
            "\u001b[?25hRequirement already satisfied: python-dateutil<3.0.0,>=2.1 in /usr/local/lib/python3.7/dist-packages (from botocore<1.22.0,>=1.21.29->boto3) (2.8.2)\n",
            "Requirement already satisfied: six>=1.5 in /usr/local/lib/python3.7/dist-packages (from python-dateutil<3.0.0,>=2.1->botocore<1.22.0,>=1.21.29->boto3) (1.15.0)\n",
            "Installing collected packages: urllib3, jmespath, botocore, s3transfer, boto3\n",
            "  Attempting uninstall: urllib3\n",
            "    Found existing installation: urllib3 1.24.3\n",
            "    Uninstalling urllib3-1.24.3:\n",
            "      Successfully uninstalled urllib3-1.24.3\n",
            "\u001b[31mERROR: pip's dependency resolver does not currently take into account all the packages that are installed. This behaviour is the source of the following dependency conflicts.\n",
            "requests 2.23.0 requires urllib3!=1.25.0,!=1.25.1,<1.26,>=1.21.1, but you have urllib3 1.26.6 which is incompatible.\n",
            "datascience 0.10.6 requires folium==0.2.1, but you have folium 0.8.3 which is incompatible.\u001b[0m\n",
            "Successfully installed boto3-1.18.29 botocore-1.21.29 jmespath-0.10.0 s3transfer-0.5.0 urllib3-1.26.6\n"
          ],
          "name": "stdout"
        }
      ]
    },
    {
      "cell_type": "markdown",
      "metadata": {
        "id": "_oiyMEg8yuW3"
      },
      "source": [
        "# Step 1: Import libraries\n",
        "Just importing the library installed and some preinstalled ones in notebook session"
      ]
    },
    {
      "cell_type": "code",
      "metadata": {
        "id": "IcITJxfOyMhB"
      },
      "source": [
        "import boto3\n",
        "import multiprocessing\n",
        "from multiprocessing import Pool\n",
        "import time\n",
        "import io\n",
        "from tqdm import tqdm"
      ],
      "execution_count": 2,
      "outputs": []
    },
    {
      "cell_type": "markdown",
      "metadata": {
        "id": "Fd120oZOzO-h"
      },
      "source": [
        "# Step 2: Setting credentials\n"
      ]
    },
    {
      "cell_type": "code",
      "metadata": {
        "id": "-yyNX_oSzDMT"
      },
      "source": [
        "import boto3\n",
        "\n",
        "# Setting up the credentials for S3\n",
        "ACCESS_ID_RAW = ''\n",
        "ACCESS_KEY_RAW = ''\n",
        "AWS_S3_CREDS = {\n",
        "         'aws_access_key_id':ACCESS_ID_RAW,\n",
        "         'aws_secret_access_key':ACCESS_KEY_RAW\n",
        "         }\n",
        "\n",
        "# Setup up the credentiald for Wasabi\n",
        "ACCESS_ID_W = ''\n",
        "ACCESS_KEY_W = ''\n",
        "ENPOINT_URL = 'https://s3.YOUR-REGION-HERE.wasabisys.com'\n",
        "AWS_WASABI_CREDS = {\n",
        "    'endpoint_url':ENPOINT_URL,\n",
        "    'aws_access_key_id':ACCESS_ID_W,\n",
        "    'aws_secret_access_key':ACCESS_KEY_W\n",
        "}"
      ],
      "execution_count": null,
      "outputs": []
    },
    {
      "cell_type": "markdown",
      "metadata": {
        "id": "Fj9fgbGe0x1A"
      },
      "source": [
        "# Step 3: Declare functions\n"
      ]
    },
    {
      "cell_type": "code",
      "metadata": {
        "id": "6yLAb0y902ms"
      },
      "source": [
        "def get_all_s3_objects(s3, **base_kwargs):\n",
        "    continuation_token = None\n",
        "    while True:\n",
        "        list_kwargs = dict(MaxKeys=1000, **base_kwargs)\n",
        "        if continuation_token:\n",
        "            list_kwargs['ContinuationToken'] = continuation_token\n",
        "        response = s3.list_objects_v2(**list_kwargs)\n",
        "        yield from response.get('Contents', [])\n",
        "        if not response.get('IsTruncated'):  # At the end of the list?\n",
        "            break\n",
        "        continuation_token = response.get('NextContinuationToken')\n",
        "\n",
        "def process_obj(obj_name):\n",
        "  try:\n",
        "    # Generating new client to avoid concurrency issues\n",
        "    s3client = boto3.client('s3', **AWS_S3_CREDS)\n",
        "    # Download object\n",
        "    obj = s3client.get_object(Bucket='YOUR-BUCKET-NAME-HERE', Key=obj_name)\n",
        "    # Upload object\n",
        "    s3_wasabi.put_object(Bucket=bucket_name, Key='YOUR-BUCKET-NAME-HERE/' + obj_name, Body=io.BytesIO(obj['Body'].read()))\n",
        "    return obj_name\n",
        "  except Exception as e:\n",
        "    return 'ERROR: YOUR-BUCKET-NAME-HERE/'+obj_name + ' | ' + e\n",
        "\n",
        "def get_objects(bucket, prefix):\n",
        "  response = get_all_s3_objects(boto3.client('s3', **AWS_S3_CREDS), Bucket=bucket, Prefix=prefix)\n",
        "  return [o['Key'] for o in list(response)] # return object list "
      ],
      "execution_count": null,
      "outputs": []
    },
    {
      "cell_type": "markdown",
      "metadata": {
        "id": "UKoQBGve57n4"
      },
      "source": [
        "# Step 4: Get the S3 objects in the buckets"
      ]
    },
    {
      "cell_type": "code",
      "metadata": {
        "id": "yRq5X8OZ5376"
      },
      "source": [
        "result_list = []\n",
        "prefix = ''\n",
        "bucket = ''\n",
        "list_objs = get_objects(bucket, prefix)"
      ],
      "execution_count": null,
      "outputs": []
    },
    {
      "cell_type": "markdown",
      "metadata": {
        "id": "ujEBpR4w1_i4"
      },
      "source": [
        ""
      ]
    }
  ]
}